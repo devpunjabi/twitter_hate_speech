{
 "cells": [
  {
   "cell_type": "markdown",
   "metadata": {},
   "source": [
    "## <center>Hate Speech analyisis based on twitter data<center/>\n",
    "###### <center>~  Dev Punjabi (794737), Ankur Dutta (794698)   <center/>\n",
    "###### <center>MS Cognitive Systems, WS 17/18    <center/>"
   ]
  },
  {
   "cell_type": "markdown",
   "metadata": {},
   "source": [
    "## 1. All the requisite libraries and functions"
   ]
  },
  {
   "cell_type": "code",
   "execution_count": 68,
   "metadata": {},
   "outputs": [],
   "source": [
    "%run hate_library"
   ]
  },
  {
   "cell_type": "code",
   "execution_count": 89,
   "metadata": {},
   "outputs": [],
   "source": [
    "%run common_functions\n",
    "%run HAL_RF_functions\n",
    "%run BoGClassfier\n",
    "%matplotlib inline"
   ]
  },
  {
   "cell_type": "markdown",
   "metadata": {},
   "source": [
    "## 2. The data"
   ]
  },
  {
   "cell_type": "markdown",
   "metadata": {},
   "source": [
    "##### a. The raw test/train data"
   ]
  },
  {
   "cell_type": "code",
   "execution_count": 7,
   "metadata": {},
   "outputs": [],
   "source": [
    "# Getting back the objects:\n",
    "with open('FINALtweets_withLabels.pkl', 'rb') as f:  # Python 3: open(..., 'wb')\n",
    "    finalOffense_tweet,none_tweet = pickle.load(f)"
   ]
  },
  {
   "cell_type": "markdown",
   "metadata": {},
   "source": [
    "##### b. The data is divided into test and train "
   ]
  },
  {
   "cell_type": "code",
   "execution_count": 8,
   "metadata": {},
   "outputs": [],
   "source": [
    "test, train = create_test_train(finalOffense_tweet,none_tweet)"
   ]
  },
  {
   "cell_type": "code",
   "execution_count": 9,
   "metadata": {},
   "outputs": [
    {
     "name": "stdout",
     "output_type": "stream",
     "text": [
      "Number of observations in the training data: 16333\n",
      "Number of observations in the test data: 5467\n"
     ]
    }
   ],
   "source": [
    "# Show the number of observations for the test and training dataframes\n",
    "print('Number of observations in the training data:', len(train))\n",
    "print('Number of observations in the test data:',len(test))"
   ]
  },
  {
   "cell_type": "markdown",
   "metadata": {},
   "source": [
    "## 3. The Work-flows"
   ]
  },
  {
   "cell_type": "markdown",
   "metadata": {},
   "source": [
    "### I.  HAL with Random Forest"
   ]
  },
  {
   "cell_type": "markdown",
   "metadata": {},
   "source": [
    "##### Step 1. Preprocessing data"
   ]
  },
  {
   "cell_type": "code",
   "execution_count": 10,
   "metadata": {},
   "outputs": [],
   "source": [
    "tweet_token, test_tweet_token, train_tweet_token, test_class, train_class = modHAL_preprocess_tweets(train,test)"
   ]
  },
  {
   "cell_type": "markdown",
   "metadata": {},
   "source": [
    "##### Step 2. Creating feature vectors"
   ]
  },
  {
   "cell_type": "code",
   "execution_count": 11,
   "metadata": {},
   "outputs": [],
   "source": [
    "## train data\n",
    "train_HAL_mat_2D = HAL_operation(train_tweet_token, tweet_token, window_size = 5)\n",
    "## test data\n",
    "test_HAL_mat_2D = HAL_operation(test_tweet_token, tweet_token, window_size = 5)"
   ]
  },
  {
   "cell_type": "markdown",
   "metadata": {},
   "source": [
    "##### Step 3. Running the classifier (training and testing)"
   ]
  },
  {
   "cell_type": "code",
   "execution_count": 12,
   "metadata": {},
   "outputs": [],
   "source": [
    "## train\n",
    "RFclassifier = RF_on_HAL([tweet_token, train_class, train_HAL_mat_2D],mode=\"train\")"
   ]
  },
  {
   "cell_type": "code",
   "execution_count": 13,
   "metadata": {},
   "outputs": [],
   "source": [
    "## test\n",
    "RFpredictions, all_prob, cnf_mat, acc_score = RF_on_HAL([RFclassifier, test_class, test_HAL_mat_2D],mode=\"test\")"
   ]
  },
  {
   "cell_type": "markdown",
   "metadata": {},
   "source": [
    "##### Step 4: Accuracy measures"
   ]
  },
  {
   "cell_type": "code",
   "execution_count": 14,
   "metadata": {},
   "outputs": [
    {
     "name": "stdout",
     "output_type": "stream",
     "text": [
      "Predicted class     0     1\n",
      "Actual class               \n",
      "0                2133   560\n",
      "1                 368  2406\n"
     ]
    }
   ],
   "source": [
    "## Confusion matrix\n",
    "print(cnf_mat)"
   ]
  },
  {
   "cell_type": "code",
   "execution_count": 15,
   "metadata": {},
   "outputs": [
    {
     "name": "stdout",
     "output_type": "stream",
     "text": [
      "83.0254252789%\n"
     ]
    }
   ],
   "source": [
    "## accuracy score\n",
    "print(str(acc_score*100)+\"%\")"
   ]
  },
  {
   "cell_type": "markdown",
   "metadata": {},
   "source": [
    "##### Step 4: Creating prediction plots"
   ]
  },
  {
   "cell_type": "code",
   "execution_count": 20,
   "metadata": {
    "collapsed": true
   },
   "outputs": [],
   "source": [
    "x0,y0,x1,y1 = plot_outputs(test_class,RFpredictions,all_prob)"
   ]
  },
  {
   "cell_type": "code",
   "execution_count": 25,
   "metadata": {},
   "outputs": [
    {
     "data": {
      "image/png": "[encoded data removed]",
      "text/plain": [
       "<matplotlib.figure.Figure at 0x184314a3c18>"
      ]
     },
     "metadata": {},
     "output_type": "display_data"
    }
   ],
   "source": [
    "## the static data live plot\n",
    "static_data_live_plot(x0,y0,x1,y1)"
   ]
  },
  {
   "cell_type": "markdown",
   "metadata": {},
   "source": [
    "### II.  BoW with Naive Bayes and SVM"
   ]
  },
  {
   "cell_type": "markdown",
   "metadata": {},
   "source": [
    "##### Step 1. Preprocessing data"
   ]
  },
  {
   "cell_type": "code",
   "execution_count": 26,
   "metadata": {
    "collapsed": true
   },
   "outputs": [],
   "source": [
    "trainList = preprocessTweet(train)\n",
    "testList = preprocessTweet(test)"
   ]
  },
  {
   "cell_type": "markdown",
   "metadata": {},
   "source": [
    "##### Step 2. Creating feature vectors"
   ]
  },
  {
   "cell_type": "code",
   "execution_count": 27,
   "metadata": {
    "collapsed": true
   },
   "outputs": [],
   "source": [
    "XtrainVector = createVectorX(trainList)\n",
    "XtestVector = createVectorX(testList)\n",
    "YtrainVector = createVectorY(trainList)\n",
    "YtestVector = createVectorY(testList)\n"
   ]
  },
  {
   "cell_type": "markdown",
   "metadata": {},
   "source": [
    "##### Step 3. Running the classifiers (SVM & Naive Bayes) "
   ]
  },
  {
   "cell_type": "code",
   "execution_count": 40,
   "metadata": {},
   "outputs": [
    {
     "name": "stdout",
     "output_type": "stream",
     "text": [
      "Prediction Accuracy for Bag of words with MultiNominal Naive Bayes: 80.5926467898\n",
      "Prediction Accuracy for Bag of words with SGDClassifier(SVM): 82.0010974941\n"
     ]
    }
   ],
   "source": [
    "pre_nb,pre_svm,nb,svm = classifyTweet(XtrainVector,YtrainVector,XtestVector,YtestVector)\n",
    "prob_svm = svm.predict_proba(XtestVector)\n",
    "prob_nb = nb.predict_proba(XtestVector)"
   ]
  },
  {
   "cell_type": "markdown",
   "metadata": {},
   "source": [
    "##### Step 4: Creating matrix for plots"
   ]
  },
  {
   "cell_type": "code",
   "execution_count": 41,
   "metadata": {},
   "outputs": [],
   "source": [
    "nx0, nx1, ny0, ny1 = createPlotData(pre_nb, nb, prob_nb)\n",
    "sx0, sx1, sy0 , sy1 = createPlotData(pre_svm, svm, prob_svm)"
   ]
  },
  {
   "cell_type": "code",
   "execution_count": 42,
   "metadata": {},
   "outputs": [
    {
     "data": {
      "image/png": "[encoded data removed]",
      "text/plain": [
       "<matplotlib.figure.Figure at 0x18433335c50>"
      ]
     },
     "metadata": {},
     "output_type": "display_data"
    }
   ],
   "source": [
    "## naive bayes\n",
    "## the static data live plot\n",
    "static_data_live_plot(nx0,ny0,nx1,ny1)"
   ]
  },
  {
   "cell_type": "code",
   "execution_count": 43,
   "metadata": {},
   "outputs": [
    {
     "data": {
      "image/png": "[encoded data removed]",
      "text/plain": [
       "<matplotlib.figure.Figure at 0x18433223588>"
      ]
     },
     "metadata": {},
     "output_type": "display_data"
    }
   ],
   "source": [
    "## naive bayes\n",
    "## the static data live plot\n",
    "static_data_live_plot(sx0, sy0, sx1 , sy1)"
   ]
  },
  {
   "cell_type": "markdown",
   "metadata": {},
   "source": [
    "### III.  Ensemble outputs of the classifiers: Majority Voting"
   ]
  },
  {
   "cell_type": "markdown",
   "metadata": {},
   "source": [
    "###### a. Running the various classifier predictions and the actual classes to create the majority voting matrix"
   ]
  },
  {
   "cell_type": "code",
   "execution_count": 32,
   "metadata": {},
   "outputs": [],
   "source": [
    "vot_mat, vot_cnf_mat, vot_acc_score = voting_matrix(test_class,RFpredictions,pre_svm,pre_nb)"
   ]
  },
  {
   "cell_type": "markdown",
   "metadata": {},
   "source": [
    "###### b. The voting matrix, a sneak peak"
   ]
  },
  {
   "cell_type": "code",
   "execution_count": 33,
   "metadata": {},
   "outputs": [
    {
     "data": {
      "text/html": [
       "<div>\n",
       "<style>\n",
       "    .dataframe thead tr:only-child th {\n",
       "        text-align: right;\n",
       "    }\n",
       "\n",
       "    .dataframe thead th {\n",
       "        text-align: left;\n",
       "    }\n",
       "\n",
       "    .dataframe tbody tr th {\n",
       "        vertical-align: top;\n",
       "    }\n",
       "</style>\n",
       "<table border=\"1\" class=\"dataframe\">\n",
       "  <thead>\n",
       "    <tr style=\"text-align: right;\">\n",
       "      <th></th>\n",
       "      <th>Real_Class</th>\n",
       "      <th>NB_class</th>\n",
       "      <th>SVM_class</th>\n",
       "      <th>RF_class</th>\n",
       "      <th>Voting_Class</th>\n",
       "    </tr>\n",
       "  </thead>\n",
       "  <tbody>\n",
       "    <tr>\n",
       "      <th>0</th>\n",
       "      <td>0</td>\n",
       "      <td>0</td>\n",
       "      <td>1</td>\n",
       "      <td>1</td>\n",
       "      <td>1</td>\n",
       "    </tr>\n",
       "    <tr>\n",
       "      <th>1</th>\n",
       "      <td>0</td>\n",
       "      <td>0</td>\n",
       "      <td>0</td>\n",
       "      <td>0</td>\n",
       "      <td>0</td>\n",
       "    </tr>\n",
       "    <tr>\n",
       "      <th>2</th>\n",
       "      <td>0</td>\n",
       "      <td>1</td>\n",
       "      <td>1</td>\n",
       "      <td>1</td>\n",
       "      <td>1</td>\n",
       "    </tr>\n",
       "    <tr>\n",
       "      <th>3</th>\n",
       "      <td>0</td>\n",
       "      <td>1</td>\n",
       "      <td>0</td>\n",
       "      <td>0</td>\n",
       "      <td>0</td>\n",
       "    </tr>\n",
       "    <tr>\n",
       "      <th>4</th>\n",
       "      <td>0</td>\n",
       "      <td>0</td>\n",
       "      <td>0</td>\n",
       "      <td>0</td>\n",
       "      <td>0</td>\n",
       "    </tr>\n",
       "  </tbody>\n",
       "</table>\n",
       "</div>"
      ],
      "text/plain": [
       "   Real_Class  NB_class  SVM_class  RF_class  Voting_Class\n",
       "0           0         0          1         1             1\n",
       "1           0         0          0         0             0\n",
       "2           0         1          1         1             1\n",
       "3           0         1          0         0             0\n",
       "4           0         0          0         0             0"
      ]
     },
     "execution_count": 33,
     "metadata": {},
     "output_type": "execute_result"
    }
   ],
   "source": [
    "vot_mat.head()"
   ]
  },
  {
   "cell_type": "markdown",
   "metadata": {},
   "source": [
    "##### c. Confusion matrix"
   ]
  },
  {
   "cell_type": "code",
   "execution_count": 34,
   "metadata": {},
   "outputs": [
    {
     "name": "stdout",
     "output_type": "stream",
     "text": [
      "Predicted class     0     1\n",
      "Actual class               \n",
      "0                2112   581\n",
      "1                 273  2501\n"
     ]
    }
   ],
   "source": [
    "print(vot_cnf_mat)"
   ]
  },
  {
   "cell_type": "markdown",
   "metadata": {},
   "source": [
    "###### d. The accuracy score"
   ]
  },
  {
   "cell_type": "code",
   "execution_count": 35,
   "metadata": {},
   "outputs": [
    {
     "name": "stdout",
     "output_type": "stream",
     "text": [
      "0.843790012804\n"
     ]
    }
   ],
   "source": [
    "print(vot_acc_score)"
   ]
  },
  {
   "cell_type": "markdown",
   "metadata": {},
   "source": [
    "##### e. Understandings and inference"
   ]
  },
  {
   "cell_type": "markdown",
   "metadata": {},
   "source": [
    "As, we can see implementing an ensemble of the classifiers, has improved the accuracy of the system. So, depending on the classifiers and data modelling methods, one can find a good mix to work together, to overcome one another's drawbacks and get a better result. "
   ]
  },
  {
   "cell_type": "markdown",
   "metadata": {},
   "source": [
    "#### Live tweet output"
   ]
  },
  {
   "cell_type": "code",
   "execution_count": 95,
   "metadata": {
    "collapsed": true
   },
   "outputs": [],
   "source": [
    "class StdOutListener(StreamListener):\n",
    "    global tweet_token, RFclassifier,nb,svm\n",
    "    tweets_data_path = './datafile.txt'\n",
    "    tweets_file = io.open(tweets_data_path, \"w\")\n",
    "    \n",
    "    def on_data(self, data):\n",
    "        try:\n",
    "            tweet = json.loads(data)[\"text\"]\n",
    "            print(\"The tweet: \"+str(tweet))\n",
    "        except:\n",
    "            print(\"No data\")\n",
    "        try:\n",
    "            rf = new_tweet_RF([tweet],tweet_token,RFclassifier)\n",
    "            SVM_out, N_out = BOGTweet_live(tweet,nb,svm)\n",
    "            vot_list = ['offense' ,rf, SVM_out[0], N_out[0]]\n",
    "            vot_list = list(pd.factorize(vot_list)[0])\n",
    "            vot_list = sum(vot_list[1:])\n",
    "            if(vot_list>1):\n",
    "                vot_list = \"none\"\n",
    "            else:\n",
    "                vot_list = \"offense\"\n",
    "            print(\"\\nRF says this tweet is:\"+str(rf))\n",
    "            print(\"\\nSVM says this tweet is:\"+str(SVM_out[0]))\n",
    "            print(\"\\nNaive Bayes says this tweet is:\"+str(N_out[0]))\n",
    "            print(\"\\nMajority voting says this tweet is:\"+str(vot_list))\n",
    "            stream.disconnect()\n",
    "        except KeyboardInterrupt:\n",
    "                print(\"End data flow\")\n",
    "                return(0)\n",
    "    def on_error(self, status):\n",
    "        print(status)"
   ]
  },
  {
   "cell_type": "markdown",
   "metadata": {},
   "source": [
    "###### INSTRUCTION: run the cell below to see a new tweet and its hate sentiment predictions"
   ]
  },
  {
   "cell_type": "code",
   "execution_count": 98,
   "metadata": {},
   "outputs": [
    {
     "name": "stdout",
     "output_type": "stream",
     "text": [
      "The tweet: RT @ChristineArdigo: Hate your Boss? Be Glad Your Co-Workers Can Keep a Secret\n",
      "https://t.co/LlGsTy8L11\n",
      "\n",
      "#pdf1 #eartg #asmsg\n",
      "https://t.co/ui…\n",
      "\n",
      "RF says this tweet is:none\n",
      "\n",
      "SVM says this tweet is:none\n",
      "\n",
      "Naive Bayes says this tweet is:none\n",
      "\n",
      "Majority voting says this tweet is:none\n"
     ]
    }
   ],
   "source": [
    "l = StdOutListener()\n",
    "auth = OAuthHandler(consumer_key, consumer_secret)\n",
    "auth.set_access_token(access_token, access_token_secret)\n",
    "stream = Stream(auth, l)\n",
    "#This line filter Twitter Streams to capture data by the keywords: 'python', 'javascript', 'ruby'\n",
    "stream.filter(track=['war','hate'])"
   ]
  }
 ],
 "metadata": {
  "kernelspec": {
   "display_name": "Python 3",
   "language": "python",
   "name": "python3"
  },
  "language_info": {
   "codemirror_mode": {
    "name": "ipython",
    "version": 3
   },
   "file_extension": ".py",
   "mimetype": "text/x-python",
   "name": "python",
   "nbconvert_exporter": "python",
   "pygments_lexer": "ipython3",
   "version": "3.6.2"
  }
 },
 "nbformat": 4,
 "nbformat_minor": 2
}
